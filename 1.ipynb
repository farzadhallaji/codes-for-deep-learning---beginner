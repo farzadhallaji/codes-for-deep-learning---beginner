{
 "cells": [
  {
   "cell_type": "markdown",
   "id": "10f5e4d8-8585-45d7-ab33-361431dcee9f",
   "metadata": {},
   "source": [
    "### Math for DL"
   ]
  },
  {
   "cell_type": "code",
   "execution_count": 1,
   "id": "9f7fdcff-03ec-4771-acdd-a5c62bf38ab1",
   "metadata": {},
   "outputs": [],
   "source": [
    "import numpy as np"
   ]
  },
  {
   "cell_type": "code",
   "execution_count": 6,
   "id": "b3eb82b3-2c2a-4deb-b7c3-3a4476923eba",
   "metadata": {},
   "outputs": [
    {
     "data": {
      "text/plain": [
       "-3"
      ]
     },
     "execution_count": 6,
     "metadata": {},
     "output_type": "execute_result"
    }
   ],
   "source": [
    "# vaector\n",
    "u = np.arange(1,5)\n",
    "u, u.shape\n",
    "# >> (array([1, 2, 3, 4]), (4,))\n",
    "v = np.array([-2, 0, 1, -1])\n",
    "np.dot(u, v)\n"
   ]
  }
 ],
 "metadata": {
  "kernelspec": {
   "display_name": "Python 3",
   "language": "python",
   "name": "python3"
  },
  "language_info": {
   "codemirror_mode": {
    "name": "ipython",
    "version": 3
   },
   "file_extension": ".py",
   "mimetype": "text/x-python",
   "name": "python",
   "nbconvert_exporter": "python",
   "pygments_lexer": "ipython3",
   "version": "3.9.15"
  }
 },
 "nbformat": 4,
 "nbformat_minor": 5
}
