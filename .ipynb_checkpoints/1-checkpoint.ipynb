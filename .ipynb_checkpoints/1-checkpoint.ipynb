{
 "cells": [
  {
   "cell_type": "markdown",
   "id": "10f5e4d8-8585-45d7-ab33-361431dcee9f",
   "metadata": {},
   "source": [
    "### Math for DL"
   ]
  },
  {
   "cell_type": "code",
   "execution_count": 185,
   "id": "9f7fdcff-03ec-4771-acdd-a5c62bf38ab1",
   "metadata": {},
   "outputs": [],
   "source": [
    "import numpy as np"
   ]
  },
  {
   "cell_type": "markdown",
   "id": "f199e42f-c09b-4c4a-8d50-1e62ec16ce43",
   "metadata": {},
   "source": [
    "#### Dot Product"
   ]
  },
  {
   "cell_type": "code",
   "execution_count": 184,
   "id": "b3eb82b3-2c2a-4deb-b7c3-3a4476923eba",
   "metadata": {},
   "outputs": [
    {
     "data": {
      "text/plain": [
       "-3"
      ]
     },
     "execution_count": 184,
     "metadata": {},
     "output_type": "execute_result"
    }
   ],
   "source": [
    "# vaector\n",
    "u = np.arange(1,5)\n",
    "u, u.shape\n",
    "# >> (array([1, 2, 3, 4]), (4,))\n",
    "v = np.array([-2, 0, 1, -1])\n",
    "np.dot(u, v)\n"
   ]
  },
  {
   "cell_type": "code",
   "execution_count": 183,
   "id": "a7a3f0da-834a-4f8c-98f8-ceb0d773985e",
   "metadata": {},
   "outputs": [
    {
     "data": {
      "text/latex": [
       "\n",
       "$a = [a_1, a_2, ..., a_n] ,  \\; b = [b_1, b_2, ..., b_n] \\\\$ \n",
       "\n",
       "$Coordinate \\; definition: $  $a.b =  \\Sigma_{i=1}^{n} a_ib_i \\\\$\n",
       "\n",
       "$matrix \\; product:$          $a.b =  a^Tb  \\\\$\n",
       "\n",
       "$Geometric \\; definition:$    $ a.b =  \\|a\\|\\|b\\|. cos(\\theta)   \\\\$\n",
       "\n",
       "$\\theta: \\; angle \\; between \\; a \\; and \\; b  \\\\$\n",
       "\n",
       "$\\|a\\| =  \\sqrt{a.a} \\\\$\n",
       "\n",
       "$Scalar \\; projection \\; and \\; first \\; properties:$\n",
       "$a_b = \\|a\\|.cos(\\theta) = \\|a\\|.\\hat{b}$$ \\hat{b} = b/\\|b\\| : unit \\; vector \\\\$\n",
       "\n",
       "$Equivalence \\; of \\; the \\; definitions:$\n",
       "$If \\; e_1, ..., e_n \\; are \\; the \\; standard \\; basis \\; vectors \\; in \\; R^n, \\; then \\; we \\; may \\; write \\\\$\n",
       "${\\displaystyle {\\begin{aligned}\\mathbf {a} &=[a_{1},\\dots ,a_{n}]=\\sum _{i}a_{i}\\mathbf {e} _{i}\\\\\\mathbf {b} &=[b_{1},\\dots ,b_{n}]=\\sum _{i}b_{i}\\mathbf {e} _{i}.\\end{aligned}}}\\\\$\n",
       "$\\mathbf {e} _{i}\\cdot \\mathbf {e} _{i}=1 $\n",
       "$ \\mathbf {e} _{i}\\cdot \\mathbf {e} _{j}=0 \\\\$\n",
       "${\\displaystyle \\mathbf {a} \\cdot \\mathbf {b} =\\mathbf {a} \\cdot \\sum _{i}b_{i}\\mathbf {e} _{i}=\\sum _{i}b_{i}(\\mathbf {a} \\cdot \\mathbf {e} _{i})=\\sum _{i}b_{i}a_{i}=\\sum _{i}a_{i}b_{i},}$\n",
       "\n",
       "\n",
       "\n",
       "\n"
      ],
      "text/plain": [
       "<IPython.core.display.Latex object>"
      ]
     },
     "metadata": {},
     "output_type": "display_data"
    }
   ],
   "source": [
    "%%latex\n",
    "\n",
    "$a = [a_1, a_2, ..., a_n] ,  \\; b = [b_1, b_2, ..., b_n] \\\\$ \n",
    "\n",
    "$Coordinate \\; definition: $  $a.b =  \\Sigma_{i=1}^{n} a_ib_i \\\\$\n",
    "\n",
    "$matrix \\; product:$          $a.b =  a^Tb  \\\\$\n",
    "\n",
    "$Geometric \\; definition:$    $ a.b =  \\|a\\|\\|b\\|. cos(\\theta)   \\\\$\n",
    "\n",
    "$\\theta: \\; angle \\; between \\; a \\; and \\; b  \\\\$\n",
    "\n",
    "$\\|a\\| =  \\sqrt{a.a} \\\\$\n",
    "\n",
    "$Scalar \\; projection \\; and \\; first \\; properties:$\n",
    "$a_b = \\|a\\|.cos(\\theta) = \\|a\\|.\\hat{b}$$ \\hat{b} = b/\\|b\\| : unit \\; vector \\\\$\n",
    "\n",
    "$Equivalence \\; of \\; the \\; definitions:$\n",
    "$If \\; e_1, ..., e_n \\; are \\; the \\; standard \\; basis \\; vectors \\; in \\; R^n, \\; then \\; we \\; may \\; write \\\\$\n",
    "${\\displaystyle {\\begin{aligned}\\mathbf {a} &=[a_{1},\\dots ,a_{n}]=\\sum _{i}a_{i}\\mathbf {e} _{i}\\\\\\mathbf {b} &=[b_{1},\\dots ,b_{n}]=\\sum _{i}b_{i}\\mathbf {e} _{i}.\\end{aligned}}}\\\\$\n",
    "$\\mathbf {e} _{i}\\cdot \\mathbf {e} _{i}=1 $\n",
    "$ \\mathbf {e} _{i}\\cdot \\mathbf {e} _{j}=0 \\\\$\n",
    "${\\displaystyle \\mathbf {a} \\cdot \\mathbf {b} =\\mathbf {a} \\cdot \\sum _{i}b_{i}\\mathbf {e} _{i}=\\sum _{i}b_{i}(\\mathbf {a} \\cdot \\mathbf {e} _{i})=\\sum _{i}b_{i}a_{i}=\\sum _{i}a_{i}b_{i},}$\n",
    "\n",
    "\n",
    "\n",
    "\n"
   ]
  },
  {
   "cell_type": "markdown",
   "id": "ba4bd3b8-c28d-4243-aa2d-7c7ce3a9dbcb",
   "metadata": {},
   "source": [
    "### Norm\n",
    "norm is a function from a real or complex vector space to the non-negative real numbers that behaves in certain ways like the distance from the origin"
   ]
  },
  {
   "cell_type": "code",
   "execution_count": 208,
   "id": "f60d07c2-fc0c-42e4-bfee-0d55db2e57cb",
   "metadata": {},
   "outputs": [
    {
     "data": {
      "text/latex": [
       "$\n",
       "{\\displaystyle \\|\\mathbf {x} \\|_{p}:={\\bigg (} \\sum _{i=1}^{n}|x_{i}|^{p}{\\bigg )}^{1/p}}\n",
       "\\\\$\n",
       "$Absolute-value \\; norm:$ ${\\displaystyle \\|x\\|=|x|} \\\\$\n",
       "$Euclidean \\; norm$ $(L^{2} norm,\\ell ^{2} norm, 2-norm,square\\; norm):$ ${\\displaystyle \\|{\\boldsymbol {x}}\\|_{2}:={\\sqrt {x_{1}^{2}+\\cdots +x_{n}^{2}}}}$\n",
       "\n"
      ],
      "text/plain": [
       "<IPython.core.display.Latex object>"
      ]
     },
     "metadata": {},
     "output_type": "display_data"
    }
   ],
   "source": [
    "%%latex\n",
    "$\n",
    "{\\displaystyle \\|\\mathbf {x} \\|_{p}:={\\bigg (} \\sum _{i=1}^{n}|x_{i}|^{p}{\\bigg )}^{1/p}}\n",
    "\\\\$\n",
    "$Absolute-value \\; norm:$ ${\\displaystyle \\|x\\|=|x|} \\\\$\n",
    "$Euclidean \\; norm$ $(L^{2} norm,\\ell ^{2} norm, 2-norm,square\\; norm):$ ${\\displaystyle \\|{\\boldsymbol {x}}\\|_{2}:={\\sqrt {x_{1}^{2}+\\cdots +x_{n}^{2}}}}$\n",
    "\n"
   ]
  },
  {
   "cell_type": "code",
   "execution_count": 212,
   "id": "36c0b9a7-0f51-45f9-8da1-b8e8f8c30e36",
   "metadata": {},
   "outputs": [
    {
     "data": {
      "text/plain": [
       "6.4031242374328485"
      ]
     },
     "execution_count": 212,
     "metadata": {},
     "output_type": "execute_result"
    }
   ],
   "source": [
    "t = np.array([4, 5])\n",
    "np.linalg.norm(t) #defualt: 2"
   ]
  },
  {
   "cell_type": "code",
   "execution_count": 213,
   "id": "e3d490cb-97d2-42f9-947e-37ebc881295f",
   "metadata": {},
   "outputs": [
    {
     "data": {
      "text/plain": [
       "(9.0, 6.4031242374328485, 5.1978230280012205)"
      ]
     },
     "execution_count": 213,
     "metadata": {},
     "output_type": "execute_result"
    }
   ],
   "source": [
    "np.linalg.norm(t, 1), np.linalg.norm(t, 2), np.linalg.norm(t, 6)"
   ]
  },
  {
   "cell_type": "code",
   "execution_count": 221,
   "id": "73536f05-5ad0-4997-b2ab-a091d810cdac",
   "metadata": {},
   "outputs": [
    {
     "data": {
      "text/plain": [
       "(array([[ 1,  2,  3,  4],\n",
       "        [ 5,  6,  7,  8],\n",
       "        [ 9, 10, 11, 12]]),\n",
       " array([[ 1,  5,  9],\n",
       "        [ 2,  6, 10],\n",
       "        [ 3,  7, 11],\n",
       "        [ 4,  8, 12]]))"
      ]
     },
     "execution_count": 221,
     "metadata": {},
     "output_type": "execute_result"
    }
   ],
   "source": [
    "#Matrix\n",
    "A = np.arange(1, 13).reshape(3, 4)\n",
    "A, A.T"
   ]
  },
  {
   "cell_type": "code",
   "execution_count": 224,
   "id": "fbb7797b-134f-4692-96c9-b61d17f61ebf",
   "metadata": {},
   "outputs": [
    {
     "data": {
      "text/plain": [
       "array([ -3, -11, -19])"
      ]
     },
     "execution_count": 224,
     "metadata": {},
     "output_type": "execute_result"
    }
   ],
   "source": [
    "#Matrix-vector product\n",
    "np.dot(A, v)"
   ]
  },
  {
   "cell_type": "code",
   "execution_count": 229,
   "id": "b55f7e11-f2d8-4a7c-a080-e2728af3afab",
   "metadata": {},
   "outputs": [
    {
     "data": {
      "text/plain": [
       "array([[6, 1, 4],\n",
       "       [4, 8, 4],\n",
       "       [6, 3, 5],\n",
       "       [8, 7, 9]])"
      ]
     },
     "execution_count": 229,
     "metadata": {},
     "output_type": "execute_result"
    }
   ],
   "source": [
    "np.random.seed(0)\n",
    "B = np.random.randint(low=1, high= 10, size=12).reshape(4, 3)\n",
    "B"
   ]
  },
  {
   "cell_type": "code",
   "execution_count": 232,
   "id": "05e5534c-32e6-404d-9cc1-e0f4ff2487fe",
   "metadata": {},
   "outputs": [
    {
     "data": {
      "text/plain": [
       "(array([[ 64,  54,  63],\n",
       "        [160, 130, 151],\n",
       "        [256, 206, 239]]),\n",
       " array([[ 64,  54,  63],\n",
       "        [160, 130, 151],\n",
       "        [256, 206, 239]]))"
      ]
     },
     "execution_count": 232,
     "metadata": {},
     "output_type": "execute_result"
    }
   ],
   "source": [
    "#Matrix multiplication \n",
    "np.dot(A, B), A @ B "
   ]
  },
  {
   "cell_type": "code",
   "execution_count": 236,
   "id": "d94d221a-89a3-4a14-ae70-f42ae6cc21e9",
   "metadata": {},
   "outputs": [
    {
     "data": {
      "text/plain": [
       "array([[  1,   4,   9,  16],\n",
       "       [ 25,  36,  49,  64],\n",
       "       [ 81, 100, 121, 144]])"
      ]
     },
     "execution_count": 236,
     "metadata": {},
     "output_type": "execute_result"
    }
   ],
   "source": [
    "A * A"
   ]
  },
  {
   "cell_type": "code",
   "execution_count": 244,
   "id": "c090e6a0-41be-4731-bf92-2d06f00d1141",
   "metadata": {},
   "outputs": [
    {
     "data": {
      "text/plain": [
       "(array([[7, 2, 9, 2],\n",
       "        [3, 3, 2, 3],\n",
       "        [4, 1, 2, 9],\n",
       "        [1, 4, 6, 8]]),\n",
       " array([[ 0.05574913,  0.14982578,  0.08013937, -0.16027875],\n",
       "        [-0.08188153,  0.37369338, -0.1489547 ,  0.04790941],\n",
       "        [ 0.09407666, -0.18466899, -0.05226481,  0.10452962],\n",
       "        [-0.03658537, -0.06707317,  0.10365854,  0.04268293]]),\n",
       " array([[1, 0, 0, 0],\n",
       "        [0, 1, 0, 0],\n",
       "        [0, 0, 0, 0],\n",
       "        [0, 0, 0, 1]]),\n",
       " array([[ 1.00000000e+00, -5.55111512e-17, -1.94289029e-16,\n",
       "         -1.38777878e-17],\n",
       "        [ 8.32667268e-17,  1.00000000e+00, -1.94289029e-16,\n",
       "         -2.77555756e-17],\n",
       "        [ 2.77555756e-17, -4.16333634e-17,  1.00000000e+00,\n",
       "         -1.66533454e-16],\n",
       "        [ 0.00000000e+00, -1.11022302e-16,  0.00000000e+00,\n",
       "          1.00000000e+00]]))"
      ]
     },
     "execution_count": 244,
     "metadata": {},
     "output_type": "execute_result"
    }
   ],
   "source": [
    "#Inverse of Matrix\n",
    "C = np.random.randint(0,10,16).reshape(4,4) # must be len rows = len colums\n",
    "C_inv = np.linalg.inv(C)\n",
    "C, C_inv, np.dot(C, C_inv).astype(int), np.dot(C, C_inv)"
   ]
  },
  {
   "cell_type": "code",
   "execution_count": 247,
   "id": "a8636a42-2a8f-41bf-b2df-a8ac2efc5b8d",
   "metadata": {},
   "outputs": [
    {
     "data": {
      "text/plain": [
       "(-1147.9999999999995,\n",
       " array([[7, 2, 9, 2],\n",
       "        [3, 3, 2, 3],\n",
       "        [4, 1, 2, 9],\n",
       "        [1, 4, 6, 8]]))"
      ]
     },
     "execution_count": 247,
     "metadata": {},
     "output_type": "execute_result"
    }
   ],
   "source": [
    "#Determinant of Matrix \n",
    "np.linalg.det(C) , C"
   ]
  },
  {
   "cell_type": "code",
   "execution_count": 250,
   "id": "a9b86720-c20d-4ff2-ac13-f87736c18bee",
   "metadata": {},
   "outputs": [
    {
     "data": {
      "text/plain": [
       "array([[ 6.57142857],\n",
       "       [22.53571429],\n",
       "       [-7.28571429],\n",
       "       [-2.25      ]])"
      ]
     },
     "execution_count": 250,
     "metadata": {},
     "output_type": "execute_result"
    }
   ],
   "source": [
    "#Solve Systems of Linear Equations: Cx = c\n",
    "# 7x1 + 2x2 + 9x3 + 2x4 =  21\n",
    "# 3x1 + 3x2 + 2x3 + 3x4 =  66\n",
    "# 4x1 +  x2 + 2x3 + 9x4 =  14\n",
    "#  x1 + 4x2 + 6x3 + 8x4 =  35\n",
    "c = np.array([21,66,14,35]).reshape(4,1)\n",
    "np.linalg.solve(C,c)\n"
   ]
  },
  {
   "cell_type": "code",
   "execution_count": 255,
   "id": "9d955f69-89db-4085-9916-89f89196bf3b",
   "metadata": {},
   "outputs": [
    {
     "data": {
      "text/plain": [
       "array([[[ 8.12893909, 10.5747753 , 10.72085453],\n",
       "        [10.81629624,  6.11856865, 12.88967142],\n",
       "        [10.38572173,  9.15827036, 13.48050692]],\n",
       "\n",
       "       [[ 9.27182645, 12.68790884,  8.36355808],\n",
       "        [10.16541987,  7.41788309,  8.67779154],\n",
       "        [ 7.63961797, 10.39528528, 10.82779995]]])"
      ]
     },
     "execution_count": 255,
     "metadata": {},
     "output_type": "execute_result"
    }
   ],
   "source": [
    "#Tensor\n",
    "X = np.random.normal(loc= 10, scale=2, size=18).reshape(2, 3, 3)\n",
    "X"
   ]
  },
  {
   "cell_type": "code",
   "execution_count": 253,
   "id": "1241b5fd-2d7e-4f1c-abae-462dc22fc738",
   "metadata": {},
   "outputs": [
    {
     "data": {
      "text/plain": [
       "-2"
      ]
     },
     "execution_count": 253,
     "metadata": {},
     "output_type": "execute_result"
    }
   ],
   "source": [
    "#Reduction\n",
    "v.sum()"
   ]
  },
  {
   "cell_type": "code",
   "execution_count": 263,
   "id": "baff944f-fb38-4636-8219-a4148e5ae975",
   "metadata": {},
   "outputs": [
    {
     "name": "stdout",
     "output_type": "stream",
     "text": [
      "X\n",
      " [[[ 8.12893909 10.5747753  10.72085453]\n",
      "  [10.81629624  6.11856865 12.88967142]\n",
      "  [10.38572173  9.15827036 13.48050692]]\n",
      "\n",
      " [[ 9.27182645 12.68790884  8.36355808]\n",
      "  [10.16541987  7.41788309  8.67779154]\n",
      "  [ 7.63961797 10.39528528 10.82779995]]]\n",
      "Reduction on axis 0 (rows)\n",
      " [[17.40076554 23.26268414 19.08441261]\n",
      " [20.98171611 13.53645174 21.56746296]\n",
      " [18.0253397  19.55355564 24.30830688]]\n",
      "Reduction on axis 1 (columns )\n",
      " [[29.33095705 25.85161431 37.09103288]\n",
      " [27.07686429 30.5010772  27.86914957]]\n",
      "Reduction on axis 2\n",
      " [[29.42456893 29.82453631 33.02449901]\n",
      " [30.32329336 26.2610945  28.8627032 ]]\n"
     ]
    }
   ],
   "source": [
    "print('X\\n', X)\n",
    "print('Reduction on axis 0 (rows)\\n', X.sum(axis=0))\n",
    "print('Reduction on axis 1 (columns )\\n', X.sum(axis=1))\n",
    "print('Reduction on axis 2\\n', X.sum(axis=2))"
   ]
  },
  {
   "cell_type": "markdown",
   "id": "53100347-82ad-4541-887b-2ae10721dc7f",
   "metadata": {},
   "source": [
    "### Linear Transformations\n",
    "#### For any linear transformation:\n",
    "T(u+v) = T(u) + T(v)\n",
    "T(ku) = kT(u)"
   ]
  },
  {
   "cell_type": "code",
   "execution_count": 306,
   "id": "4dece83f-4063-4bf5-987f-7cceff5c37b4",
   "metadata": {},
   "outputs": [
    {
     "data": {
      "text/latex": [
       "\n",
       "$\n",
       "p\\prime = (T.R.S).p = \n",
       "\\begin{bmatrix}\n",
       "    1 & 0 & t_x \\\\\n",
       "    0 & 1 & t_y \\\\\n",
       "    0 & 0 & 1 \\\\\n",
       "\\end{bmatrix}\n",
       "\\begin{bmatrix}\n",
       "    cos(\\theta) & -sin(\\theta) & 0 \\\\\n",
       "    sin(\\theta) & cos(\\theta) & 0 \\\\\n",
       "    0 & 0 & 1 \\\\\n",
       "\\end{bmatrix}\n",
       "\\begin{bmatrix}\n",
       "    S_x & 0 & 0 \\\\\n",
       "    0 & S_y & 0 \\\\\n",
       "    0 & 0 & 1 \\\\\n",
       "\\end{bmatrix}\n",
       "\\begin{bmatrix}\n",
       "    x \\\\\n",
       "    y \\\\\n",
       "    1 \\\\\n",
       "\\end{bmatrix}\n",
       "$\n",
       "$ T:Translation,\\; R:Rotation, \\; S:Scaling \\\\ $\n"
      ],
      "text/plain": [
       "<IPython.core.display.Latex object>"
      ]
     },
     "metadata": {},
     "output_type": "display_data"
    }
   ],
   "source": [
    "%%latex\n",
    "\n",
    "$\n",
    "p\\prime = (T.R.S).p = \n",
    "\\begin{bmatrix}\n",
    "    1 & 0 & t_x \\\\\n",
    "    0 & 1 & t_y \\\\\n",
    "    0 & 0 & 1 \\\\\n",
    "\\end{bmatrix}\n",
    "\\begin{bmatrix}\n",
    "    cos(\\theta) & -sin(\\theta) & 0 \\\\\n",
    "    sin(\\theta) & cos(\\theta) & 0 \\\\\n",
    "    0 & 0 & 1 \\\\\n",
    "\\end{bmatrix}\n",
    "\\begin{bmatrix}\n",
    "    S_x & 0 & 0 \\\\\n",
    "    0 & S_y & 0 \\\\\n",
    "    0 & 0 & 1 \\\\\n",
    "\\end{bmatrix}\n",
    "\\begin{bmatrix}\n",
    "    x \\\\\n",
    "    y \\\\\n",
    "    1 \\\\\n",
    "\\end{bmatrix}\n",
    "$\n",
    "$ T:Translation,\\; R:Rotation, \\; S:Scaling \\\\ $"
   ]
  },
  {
   "cell_type": "code",
   "execution_count": 314,
   "id": "41a8f171-a6d2-4875-985e-876ad09d6520",
   "metadata": {},
   "outputs": [],
   "source": [
    "u = np.array([2, 1])"
   ]
  },
  {
   "cell_type": "code",
   "execution_count": 330,
   "id": "158f9431-4cdd-4f6d-886a-8344a06f8db7",
   "metadata": {},
   "outputs": [],
   "source": [
    "#plot the vector\n",
    "import matplotlib.pyplot as plt\n",
    "def plot_vectors(u, v):\n",
    "    plt.quiver([0, 0],[0, 0] , [u[0],v[0]], [u[1],v[1]], angles= 'xy', scale_units= 'xy', scale= 1, color=['red', 'blue'])\n",
    "    plt.gca().set_aspect('equal', adjustable='box')\n",
    "    plt.xticks(range(-4, 5))\n",
    "    plt.yticks(range(-4, 5))\n",
    "    plt.grid()\n",
    "    plt.show()"
   ]
  },
  {
   "cell_type": "code",
   "execution_count": 323,
   "id": "57308cde-ea96-41a9-be53-58eb3bb77c49",
   "metadata": {},
   "outputs": [],
   "source": [
    "#Translation\n",
    "def get_translation(t_x, t_y):\n",
    "    return np.array([[1, 0, t_x],\n",
    "                     [0, 1, t_y],\n",
    "                     [0, 0,  1]])\n",
    "\n",
    "\n",
    "#Rotation\n",
    "def get_rotation(theta):\n",
    "    theta = np.radians(theta)\n",
    "    return np.array([[np.cos(theta), -np.sin(theta), 0],\n",
    "                     [np.sin(theta),  np.cos(theta), 0],\n",
    "                     [0,              0,             1]])\n",
    "\n",
    "\n",
    "#Scaling\n",
    "def get_scale(s_x, s_y):\n",
    "    return np.array([[s_x,  0, 0],\n",
    "                     [0,  s_y, 0],\n",
    "                     [0,    0, 1]])\n",
    "\n",
    "\n",
    "\n",
    "def LinearTransformate(v,t_x,t_y,theta,s_x,s_y):\n",
    "    return np.dot(np.dot(np.dot(get_translation(t_x,t_y), get_rotation(theta)), get_scale(s_x,s_y)), np.append(v,1))"
   ]
  },
  {
   "cell_type": "code",
   "execution_count": 335,
   "id": "02258584-0da5-495a-93e7-0819af45042e",
   "metadata": {},
   "outputs": [
    {
     "data": {
      "image/png": "[encoded data removed]",
      "text/plain": [
       "<Figure size 432x288 with 1 Axes>"
      ]
     },
     "metadata": {
      "needs_background": "light"
     },
     "output_type": "display_data"
    }
   ],
   "source": [
    "ut = LinearTransformate(u,0,0,30,1.4,1)\n",
    "plot_vectors(u,ut)"
   ]
  },
  {
   "cell_type": "code",
   "execution_count": null,
   "id": "06c9d065-0059-4e58-bdad-5f2a2361c199",
   "metadata": {},
   "outputs": [],
   "source": []
  },
  {
   "cell_type": "code",
   "execution_count": null,
   "id": "1bf6b056-f38a-4210-a1a4-f36eb3163d58",
   "metadata": {},
   "outputs": [],
   "source": []
  },
  {
   "cell_type": "code",
   "execution_count": null,
   "id": "b89b34da-6dec-4336-8add-c1c63c03aee4",
   "metadata": {},
   "outputs": [],
   "source": []
  }
 ],
 "metadata": {
  "kernelspec": {
   "display_name": "Python 3",
   "language": "python",
   "name": "python3"
  },
  "language_info": {
   "codemirror_mode": {
    "name": "ipython",
    "version": 3
   },
   "file_extension": ".py",
   "mimetype": "text/x-python",
   "name": "python",
   "nbconvert_exporter": "python",
   "pygments_lexer": "ipython3",
   "version": "3.9.15"
  }
 },
 "nbformat": 4,
 "nbformat_minor": 5
}
