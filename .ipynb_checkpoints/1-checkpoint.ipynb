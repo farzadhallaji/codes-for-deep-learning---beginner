{
 "cells": [
  {
   "cell_type": "markdown",
   "id": "10f5e4d8-8585-45d7-ab33-361431dcee9f",
   "metadata": {},
   "source": [
    "### Math for DL"
   ]
  },
  {
   "cell_type": "code",
   "execution_count": 4,
   "id": "9f7fdcff-03ec-4771-acdd-a5c62bf38ab1",
   "metadata": {},
   "outputs": [],
   "source": [
    "import numpy as np"
   ]
  },
  {
   "cell_type": "markdown",
   "id": "f199e42f-c09b-4c4a-8d50-1e62ec16ce43",
   "metadata": {},
   "source": [
    "#### Dot Product"
   ]
  },
  {
   "cell_type": "code",
   "execution_count": 5,
   "id": "b3eb82b3-2c2a-4deb-b7c3-3a4476923eba",
   "metadata": {},
   "outputs": [
    {
     "data": {
      "text/plain": [
       "-3"
      ]
     },
     "execution_count": 5,
     "metadata": {},
     "output_type": "execute_result"
    }
   ],
   "source": [
    "# vaector\n",
    "u = np.arange(1,5)\n",
    "u, u.shape\n",
    "# >> (array([1, 2, 3, 4]), (4,))\n",
    "v = np.array([-2, 0, 1, -1])\n",
    "np.dot(u, v)\n"
   ]
  },
  {
   "cell_type": "code",
   "execution_count": 6,
   "id": "a7a3f0da-834a-4f8c-98f8-ceb0d773985e",
   "metadata": {},
   "outputs": [
    {
     "data": {
      "text/latex": [
       "\n",
       "$a = [a_1, a_2, ..., a_n] ,  \\; b = [b_1, b_2, ..., b_n] \\\\$ \n",
       "\n",
       "$Coordinate \\; definition: $  $a.b =  \\Sigma_{i=1}^{n} a_ib_i \\\\$\n",
       "\n",
       "$matrix \\; product:$          $a.b =  a^Tb  \\\\$\n",
       "\n",
       "$Geometric \\; definition:$    $ a.b =  \\|a\\|\\|b\\|. cos(\\theta)   \\\\$\n",
       "\n",
       "$\\theta: \\; angle \\; between \\; a \\; and \\; b  \\\\$\n",
       "\n",
       "$\\|a\\| =  \\sqrt{a.a} \\\\$\n",
       "\n",
       "$Scalar \\; projection \\; and \\; first \\; properties:$\n",
       "$a_b = \\|a\\|.cos(\\theta) = \\|a\\|.\\hat{b}$$ \\hat{b} = b/\\|b\\| : unit \\; vector \\\\$\n",
       "\n",
       "$Equivalence \\; of \\; the \\; definitions:$\n",
       "$If \\; e_1, ..., e_n \\; are \\; the \\; standard \\; basis \\; vectors \\; in \\; R^n, \\; then \\; we \\; may \\; write \\\\$\n",
       "${\\displaystyle {\\begin{aligned}\\mathbf {a} &=[a_{1},\\dots ,a_{n}]=\\sum _{i}a_{i}\\mathbf {e} _{i}\\\\\\mathbf {b} &=[b_{1},\\dots ,b_{n}]=\\sum _{i}b_{i}\\mathbf {e} _{i}.\\end{aligned}}}\\\\$\n",
       "$\\mathbf {e} _{i}\\cdot \\mathbf {e} _{i}=1 $\n",
       "$ \\mathbf {e} _{i}\\cdot \\mathbf {e} _{j}=0 \\\\$\n",
       "${\\displaystyle \\mathbf {a} \\cdot \\mathbf {b} =\\mathbf {a} \\cdot \\sum _{i}b_{i}\\mathbf {e} _{i}=\\sum _{i}b_{i}(\\mathbf {a} \\cdot \\mathbf {e} _{i})=\\sum _{i}b_{i}a_{i}=\\sum _{i}a_{i}b_{i},}$\n",
       "\n",
       "\n",
       "\n",
       "\n"
      ],
      "text/plain": [
       "<IPython.core.display.Latex object>"
      ]
     },
     "metadata": {},
     "output_type": "display_data"
    }
   ],
   "source": [
    "%%latex\n",
    "\n",
    "$a = [a_1, a_2, ..., a_n] ,  \\; b = [b_1, b_2, ..., b_n] \\\\$ \n",
    "\n",
    "$Coordinate \\; definition: $  $a.b =  \\Sigma_{i=1}^{n} a_ib_i \\\\$\n",
    "\n",
    "$matrix \\; product:$          $a.b =  a^Tb  \\\\$\n",
    "\n",
    "$Geometric \\; definition:$    $ a.b =  \\|a\\|\\|b\\|. cos(\\theta)   \\\\$\n",
    "\n",
    "$\\theta: \\; angle \\; between \\; a \\; and \\; b  \\\\$\n",
    "\n",
    "$\\|a\\| =  \\sqrt{a.a} \\\\$\n",
    "\n",
    "$Scalar \\; projection \\; and \\; first \\; properties:$\n",
    "$a_b = \\|a\\|.cos(\\theta) = \\|a\\|.\\hat{b}$$ \\hat{b} = b/\\|b\\| : unit \\; vector \\\\$\n",
    "\n",
    "$Equivalence \\; of \\; the \\; definitions:$\n",
    "$If \\; e_1, ..., e_n \\; are \\; the \\; standard \\; basis \\; vectors \\; in \\; R^n, \\; then \\; we \\; may \\; write \\\\$\n",
    "${\\displaystyle {\\begin{aligned}\\mathbf {a} &=[a_{1},\\dots ,a_{n}]=\\sum _{i}a_{i}\\mathbf {e} _{i}\\\\\\mathbf {b} &=[b_{1},\\dots ,b_{n}]=\\sum _{i}b_{i}\\mathbf {e} _{i}.\\end{aligned}}}\\\\$\n",
    "$\\mathbf {e} _{i}\\cdot \\mathbf {e} _{i}=1 $\n",
    "$ \\mathbf {e} _{i}\\cdot \\mathbf {e} _{j}=0 \\\\$\n",
    "${\\displaystyle \\mathbf {a} \\cdot \\mathbf {b} =\\mathbf {a} \\cdot \\sum _{i}b_{i}\\mathbf {e} _{i}=\\sum _{i}b_{i}(\\mathbf {a} \\cdot \\mathbf {e} _{i})=\\sum _{i}b_{i}a_{i}=\\sum _{i}a_{i}b_{i},}$\n",
    "\n",
    "\n",
    "\n",
    "\n"
   ]
  },
  {
   "cell_type": "markdown",
   "id": "ba4bd3b8-c28d-4243-aa2d-7c7ce3a9dbcb",
   "metadata": {},
   "source": [
    "### Norm\n",
    "norm is a function from a real or complex vector space to the non-negative real numbers that behaves in certain ways like the distance from the origin"
   ]
  },
  {
   "cell_type": "code",
   "execution_count": 7,
   "id": "f60d07c2-fc0c-42e4-bfee-0d55db2e57cb",
   "metadata": {},
   "outputs": [
    {
     "data": {
      "text/latex": [
       "$\n",
       "{\\displaystyle \\|\\mathbf {x} \\|_{p}:={\\bigg (} \\sum _{i=1}^{n}|x_{i}|^{p}{\\bigg )}^{1/p}}\n",
       "\\\\$\n",
       "$Absolute-value \\; norm:$ ${\\displaystyle \\|x\\|=|x|} \\\\$\n",
       "$Euclidean \\; norm$ $(L^{2} norm,\\ell ^{2} norm, 2-norm,square\\; norm):$ ${\\displaystyle \\|{\\boldsymbol {x}}\\|_{2}:={\\sqrt {x_{1}^{2}+\\cdots +x_{n}^{2}}}}$\n",
       "\n"
      ],
      "text/plain": [
       "<IPython.core.display.Latex object>"
      ]
     },
     "metadata": {},
     "output_type": "display_data"
    }
   ],
   "source": [
    "%%latex\n",
    "$\n",
    "{\\displaystyle \\|\\mathbf {x} \\|_{p}:={\\bigg (} \\sum _{i=1}^{n}|x_{i}|^{p}{\\bigg )}^{1/p}}\n",
    "\\\\$\n",
    "$Absolute-value \\; norm:$ ${\\displaystyle \\|x\\|=|x|} \\\\$\n",
    "$Euclidean \\; norm$ $(L^{2} norm,\\ell ^{2} norm, 2-norm,square\\; norm):$ ${\\displaystyle \\|{\\boldsymbol {x}}\\|_{2}:={\\sqrt {x_{1}^{2}+\\cdots +x_{n}^{2}}}}$\n",
    "\n"
   ]
  },
  {
   "cell_type": "code",
   "execution_count": 8,
   "id": "36c0b9a7-0f51-45f9-8da1-b8e8f8c30e36",
   "metadata": {},
   "outputs": [
    {
     "data": {
      "text/plain": [
       "6.4031242374328485"
      ]
     },
     "execution_count": 8,
     "metadata": {},
     "output_type": "execute_result"
    }
   ],
   "source": [
    "t = np.array([4, 5])\n",
    "np.linalg.norm(t) #defualt: 2"
   ]
  },
  {
   "cell_type": "code",
   "execution_count": 9,
   "id": "e3d490cb-97d2-42f9-947e-37ebc881295f",
   "metadata": {},
   "outputs": [
    {
     "data": {
      "text/plain": [
       "(9.0, 6.4031242374328485, 5.1978230280012205)"
      ]
     },
     "execution_count": 9,
     "metadata": {},
     "output_type": "execute_result"
    }
   ],
   "source": [
    "np.linalg.norm(t, 1), np.linalg.norm(t, 2), np.linalg.norm(t, 6)"
   ]
  },
  {
   "cell_type": "code",
   "execution_count": 10,
   "id": "73536f05-5ad0-4997-b2ab-a091d810cdac",
   "metadata": {},
   "outputs": [
    {
     "data": {
      "text/plain": [
       "(array([[ 1,  2,  3,  4],\n",
       "        [ 5,  6,  7,  8],\n",
       "        [ 9, 10, 11, 12]]),\n",
       " array([[ 1,  5,  9],\n",
       "        [ 2,  6, 10],\n",
       "        [ 3,  7, 11],\n",
       "        [ 4,  8, 12]]))"
      ]
     },
     "execution_count": 10,
     "metadata": {},
     "output_type": "execute_result"
    }
   ],
   "source": [
    "#Matrix\n",
    "A = np.arange(1, 13).reshape(3, 4)\n",
    "A, A.T"
   ]
  },
  {
   "cell_type": "code",
   "execution_count": 11,
   "id": "fbb7797b-134f-4692-96c9-b61d17f61ebf",
   "metadata": {},
   "outputs": [
    {
     "data": {
      "text/plain": [
       "array([ -3, -11, -19])"
      ]
     },
     "execution_count": 11,
     "metadata": {},
     "output_type": "execute_result"
    }
   ],
   "source": [
    "#Matrix-vector product\n",
    "np.dot(A, v)"
   ]
  },
  {
   "cell_type": "code",
   "execution_count": 12,
   "id": "b55f7e11-f2d8-4a7c-a080-e2728af3afab",
   "metadata": {},
   "outputs": [
    {
     "data": {
      "text/plain": [
       "array([[6, 1, 4],\n",
       "       [4, 8, 4],\n",
       "       [6, 3, 5],\n",
       "       [8, 7, 9]])"
      ]
     },
     "execution_count": 12,
     "metadata": {},
     "output_type": "execute_result"
    }
   ],
   "source": [
    "np.random.seed(0)\n",
    "B = np.random.randint(low=1, high= 10, size=12).reshape(4, 3)\n",
    "B"
   ]
  },
  {
   "cell_type": "code",
   "execution_count": 13,
   "id": "05e5534c-32e6-404d-9cc1-e0f4ff2487fe",
   "metadata": {},
   "outputs": [
    {
     "data": {
      "text/plain": [
       "(array([[ 64,  54,  63],\n",
       "        [160, 130, 151],\n",
       "        [256, 206, 239]]),\n",
       " array([[ 64,  54,  63],\n",
       "        [160, 130, 151],\n",
       "        [256, 206, 239]]))"
      ]
     },
     "execution_count": 13,
     "metadata": {},
     "output_type": "execute_result"
    }
   ],
   "source": [
    "#Matrix multiplication \n",
    "np.dot(A, B), A @ B "
   ]
  },
  {
   "cell_type": "code",
   "execution_count": 14,
   "id": "d94d221a-89a3-4a14-ae70-f42ae6cc21e9",
   "metadata": {},
   "outputs": [
    {
     "data": {
      "text/plain": [
       "array([[  1,   4,   9,  16],\n",
       "       [ 25,  36,  49,  64],\n",
       "       [ 81, 100, 121, 144]])"
      ]
     },
     "execution_count": 14,
     "metadata": {},
     "output_type": "execute_result"
    }
   ],
   "source": [
    "A * A"
   ]
  },
  {
   "cell_type": "code",
   "execution_count": 15,
   "id": "c090e6a0-41be-4731-bf92-2d06f00d1141",
   "metadata": {},
   "outputs": [
    {
     "data": {
      "text/plain": [
       "(array([[8, 1, 6, 7],\n",
       "        [7, 8, 1, 5],\n",
       "        [9, 8, 9, 4],\n",
       "        [3, 0, 3, 5]]),\n",
       " array([[ 0.37310195,  0.04229935, -0.08893709, -0.49349241],\n",
       "        [-0.21475054,  0.07158351,  0.0802603 ,  0.164859  ],\n",
       "        [-0.11279826, -0.12906725,  0.14316703,  0.17245119],\n",
       "        [-0.15618221,  0.05206074, -0.03253796,  0.39262473]]),\n",
       " array([[0, 0, 0, 0],\n",
       "        [0, 1, 0, 0],\n",
       "        [0, 0, 0, 0],\n",
       "        [0, 0, 0, 0]]),\n",
       " array([[ 1.00000000e+00, -1.31838984e-16,  2.77555756e-17,\n",
       "         -6.66133815e-16],\n",
       "        [ 3.88578059e-16,  1.00000000e+00, -2.49800181e-16,\n",
       "         -6.66133815e-16],\n",
       "        [ 0.00000000e+00, -1.38777878e-16,  1.00000000e+00,\n",
       "         -2.22044605e-16],\n",
       "        [-5.55111512e-17, -1.17961196e-16, -2.77555756e-17,\n",
       "          1.00000000e+00]]))"
      ]
     },
     "execution_count": 15,
     "metadata": {},
     "output_type": "execute_result"
    }
   ],
   "source": [
    "#Inverse of Matrix\n",
    "C = np.random.randint(0,10,16).reshape(4,4) # must be len rows = len colums\n",
    "C_inv = np.linalg.inv(C)\n",
    "C, C_inv, np.dot(C, C_inv).astype(int), np.dot(C, C_inv)"
   ]
  },
  {
   "cell_type": "code",
   "execution_count": 16,
   "id": "a8636a42-2a8f-41bf-b2df-a8ac2efc5b8d",
   "metadata": {},
   "outputs": [
    {
     "data": {
      "text/plain": [
       "(922.000000000001,\n",
       " array([[8, 1, 6, 7],\n",
       "        [7, 8, 1, 5],\n",
       "        [9, 8, 9, 4],\n",
       "        [3, 0, 3, 5]]))"
      ]
     },
     "execution_count": 16,
     "metadata": {},
     "output_type": "execute_result"
    }
   ],
   "source": [
    "#Determinant of Matrix \n",
    "np.linalg.det(C) , C"
   ]
  },
  {
   "cell_type": "code",
   "execution_count": 17,
   "id": "a9b86720-c20d-4ff2-ac13-f87736c18bee",
   "metadata": {},
   "outputs": [
    {
     "data": {
      "text/plain": [
       "array([[-7.89045553],\n",
       "       [ 7.10845987],\n",
       "       [-2.84707158],\n",
       "       [13.44251627]])"
      ]
     },
     "execution_count": 17,
     "metadata": {},
     "output_type": "execute_result"
    }
   ],
   "source": [
    "#Solve Systems of Linear Equations: Cx = c\n",
    "# 7x1 + 2x2 + 9x3 + 2x4 =  21\n",
    "# 3x1 + 3x2 + 2x3 + 3x4 =  66\n",
    "# 4x1 +  x2 + 2x3 + 9x4 =  14\n",
    "#  x1 + 4x2 + 6x3 + 8x4 =  35\n",
    "c = np.array([21,66,14,35]).reshape(4,1)\n",
    "np.linalg.solve(C,c)\n"
   ]
  },
  {
   "cell_type": "code",
   "execution_count": 18,
   "id": "9d955f69-89db-4085-9916-89f89196bf3b",
   "metadata": {},
   "outputs": [
    {
     "data": {
      "text/plain": [
       "array([[[10.88772647, 10.66734865, 12.98815815],\n",
       "        [ 9.58968347, 10.6261354 ,  8.29180852],\n",
       "        [ 4.89402037, 11.30723719, 11.7288724 ]],\n",
       "\n",
       "       [[ 8.51566996, 14.53950925,  7.09126865],\n",
       "        [10.09151703,  9.6256323 , 13.06555843],\n",
       "        [12.93871754, 10.30989485, 10.75632504]]])"
      ]
     },
     "execution_count": 18,
     "metadata": {},
     "output_type": "execute_result"
    }
   ],
   "source": [
    "#Tensor\n",
    "X = np.random.normal(loc= 10, scale=2, size=18).reshape(2, 3, 3)\n",
    "X"
   ]
  },
  {
   "cell_type": "code",
   "execution_count": 19,
   "id": "1241b5fd-2d7e-4f1c-abae-462dc22fc738",
   "metadata": {},
   "outputs": [
    {
     "data": {
      "text/plain": [
       "-2"
      ]
     },
     "execution_count": 19,
     "metadata": {},
     "output_type": "execute_result"
    }
   ],
   "source": [
    "#Reduction\n",
    "v.sum()"
   ]
  },
  {
   "cell_type": "code",
   "execution_count": 20,
   "id": "baff944f-fb38-4636-8219-a4148e5ae975",
   "metadata": {},
   "outputs": [
    {
     "name": "stdout",
     "output_type": "stream",
     "text": [
      "X\n",
      " [[[10.88772647 10.66734865 12.98815815]\n",
      "  [ 9.58968347 10.6261354   8.29180852]\n",
      "  [ 4.89402037 11.30723719 11.7288724 ]]\n",
      "\n",
      " [[ 8.51566996 14.53950925  7.09126865]\n",
      "  [10.09151703  9.6256323  13.06555843]\n",
      "  [12.93871754 10.30989485 10.75632504]]]\n",
      "Reduction on axis 0 (rows)\n",
      " [[19.40339642 25.2068579  20.0794268 ]\n",
      " [19.68120051 20.2517677  21.35736695]\n",
      " [17.83273791 21.61713204 22.48519744]]\n",
      "Reduction on axis 1 (columns )\n",
      " [[25.37143031 32.60072125 33.00883907]\n",
      " [31.54590453 34.4750364  30.91315212]]\n",
      "Reduction on axis 2\n",
      " [[34.54323327 28.5076274  27.93012996]\n",
      " [30.14644786 32.78270776 34.00493743]]\n"
     ]
    }
   ],
   "source": [
    "print('X\\n', X)\n",
    "print('Reduction on axis 0 (rows)\\n', X.sum(axis=0))\n",
    "print('Reduction on axis 1 (columns )\\n', X.sum(axis=1))\n",
    "print('Reduction on axis 2\\n', X.sum(axis=2))"
   ]
  },
  {
   "cell_type": "markdown",
   "id": "53100347-82ad-4541-887b-2ae10721dc7f",
   "metadata": {},
   "source": [
    "### Linear Transformations\n",
    "#### For any linear transformation:\n",
    "T(u+v) = T(u) + T(v)\n",
    "T(ku) = kT(u)"
   ]
  },
  {
   "cell_type": "code",
   "execution_count": 21,
   "id": "4dece83f-4063-4bf5-987f-7cceff5c37b4",
   "metadata": {},
   "outputs": [
    {
     "data": {
      "text/latex": [
       "\n",
       "$\n",
       "p\\prime = (T.R.S).p = \n",
       "\\begin{bmatrix}\n",
       "    1 & 0 & t_x \\\\\n",
       "    0 & 1 & t_y \\\\\n",
       "    0 & 0 & 1 \\\\\n",
       "\\end{bmatrix}\n",
       "\\begin{bmatrix}\n",
       "    cos(\\theta) & -sin(\\theta) & 0 \\\\\n",
       "    sin(\\theta) & cos(\\theta) & 0 \\\\\n",
       "    0 & 0 & 1 \\\\\n",
       "\\end{bmatrix}\n",
       "\\begin{bmatrix}\n",
       "    S_x & 0 & 0 \\\\\n",
       "    0 & S_y & 0 \\\\\n",
       "    0 & 0 & 1 \\\\\n",
       "\\end{bmatrix}\n",
       "\\begin{bmatrix}\n",
       "    x \\\\\n",
       "    y \\\\\n",
       "    1 \\\\\n",
       "\\end{bmatrix}\n",
       "$\n",
       "$ T:Translation,\\; R:Rotation, \\; S:Scaling \\\\ $\n"
      ],
      "text/plain": [
       "<IPython.core.display.Latex object>"
      ]
     },
     "metadata": {},
     "output_type": "display_data"
    }
   ],
   "source": [
    "%%latex\n",
    "\n",
    "$\n",
    "p\\prime = (T.R.S).p = \n",
    "\\begin{bmatrix}\n",
    "    1 & 0 & t_x \\\\\n",
    "    0 & 1 & t_y \\\\\n",
    "    0 & 0 & 1 \\\\\n",
    "\\end{bmatrix}\n",
    "\\begin{bmatrix}\n",
    "    cos(\\theta) & -sin(\\theta) & 0 \\\\\n",
    "    sin(\\theta) & cos(\\theta) & 0 \\\\\n",
    "    0 & 0 & 1 \\\\\n",
    "\\end{bmatrix}\n",
    "\\begin{bmatrix}\n",
    "    S_x & 0 & 0 \\\\\n",
    "    0 & S_y & 0 \\\\\n",
    "    0 & 0 & 1 \\\\\n",
    "\\end{bmatrix}\n",
    "\\begin{bmatrix}\n",
    "    x \\\\\n",
    "    y \\\\\n",
    "    1 \\\\\n",
    "\\end{bmatrix}\n",
    "$\n",
    "$ T:Translation,\\; R:Rotation, \\; S:Scaling \\\\ $"
   ]
  },
  {
   "cell_type": "code",
   "execution_count": 22,
   "id": "41a8f171-a6d2-4875-985e-876ad09d6520",
   "metadata": {},
   "outputs": [],
   "source": [
    "u = np.array([2, 1])"
   ]
  },
  {
   "cell_type": "code",
   "execution_count": 23,
   "id": "158f9431-4cdd-4f6d-886a-8344a06f8db7",
   "metadata": {},
   "outputs": [],
   "source": [
    "#plot the vector\n",
    "import matplotlib.pyplot as plt\n",
    "def plot_vectors(u, v):\n",
    "    plt.quiver([0, 0],[0, 0] , [u[0],v[0]], [u[1],v[1]], angles= 'xy', scale_units= 'xy', scale= 1, color=['red', 'blue'])\n",
    "    plt.gca().set_aspect('equal', adjustable='box')\n",
    "    plt.xticks(range(-4, 5))\n",
    "    plt.yticks(range(-4, 5))\n",
    "    plt.grid()\n",
    "    plt.show()"
   ]
  },
  {
   "cell_type": "code",
   "execution_count": 24,
   "id": "57308cde-ea96-41a9-be53-58eb3bb77c49",
   "metadata": {},
   "outputs": [],
   "source": [
    "#Translation\n",
    "def get_translation(t_x, t_y):\n",
    "    return np.array([[1, 0, t_x],\n",
    "                     [0, 1, t_y],\n",
    "                     [0, 0,  1]])\n",
    "\n",
    "\n",
    "#Rotation\n",
    "def get_rotation(theta):\n",
    "    theta = np.radians(theta)\n",
    "    return np.array([[np.cos(theta), -np.sin(theta), 0],\n",
    "                     [np.sin(theta),  np.cos(theta), 0],\n",
    "                     [0,              0,             1]])\n",
    "\n",
    "\n",
    "#Scaling\n",
    "def get_scale(s_x, s_y):\n",
    "    return np.array([[s_x,  0, 0],\n",
    "                     [0,  s_y, 0],\n",
    "                     [0,    0, 1]])\n",
    "\n",
    "\n",
    "\n",
    "def LinearTransformate(v,t_x,t_y,theta,s_x,s_y):\n",
    "    # return np.dot(np.dot(np.dot(get_translation(t_x,t_y), get_rotation(theta)), get_scale(s_x,s_y)), np.append(v,1))\n",
    "    return get_translation(t_x,t_y) @ get_rotation(theta) @ get_scale(s_x,s_y) @ np.append(v,1)"
   ]
  },
  {
   "cell_type": "code",
   "execution_count": 26,
   "id": "02258584-0da5-495a-93e7-0819af45042e",
   "metadata": {},
   "outputs": [
    {
     "data": {
      "image/png": "[encoded data removed]",
      "text/plain": [
       "<Figure size 432x288 with 1 Axes>"
      ]
     },
     "metadata": {
      "needs_background": "light"
     },
     "output_type": "display_data"
    }
   ],
   "source": [
    "ut = LinearTransformate(u,0,0,30,1.4,1)\n",
    "plot_vectors(u,ut)"
   ]
  },
  {
   "cell_type": "markdown",
   "id": "6d29386c-776b-4f12-aa28-d9203a78110e",
   "metadata": {},
   "source": [
    "## Eigen decompositions\n"
   ]
  },
  {
   "cell_type": "code",
   "execution_count": 118,
   "id": "1bf6b056-f38a-4210-a1a4-f36eb3163d58",
   "metadata": {},
   "outputs": [
    {
     "data": {
      "text/latex": [
       "$Definition: \\:$\n",
       "$A \\;is\\; a \\; n\\times n \\; matrix. \\:$\n",
       "$if \\: \\exists \\; \\lambda \\subset C \\; , \\; a\\; n\\times 1 \\; vector \\; v \\; | \\;  Av = \\lambda v \\; and \\;v \\neq 0 \\\\$\n",
       "$\\implies \\lambda \\; is\\; a\\;Eigen\\; Value\\; , v \\; is \\; Eigen\\; Vector \\\\ $\n",
       "$Solving:\\\\$\n",
       "$\\implies Av = \\lambda v \\implies Av - \\lambda v = 0 \\implies (A-I\\lambda)v = 0 \\\\$\n",
       "$\n",
       "\\begin{bmatrix}\n",
       "    a_{11}-\\lambda & a_{12} & \\dots & a_{1n} \\\\\n",
       "    a_{21} & a_{22}-\\lambda & \\dots & a_{2n} \\\\\n",
       "    \\dots & \\dots & \\dots & \\dots \\\\\n",
       "    a_{n1} & a_{n2} & \\dots & a_{nn}-\\lambda \\\\\n",
       "\\end{bmatrix}\n",
       "\\begin{bmatrix}\n",
       "    x_{1} \\\\\n",
       "    x_{2} \\\\\n",
       "    \\dots \\\\\n",
       "    x_{n} \\\\\n",
       "\\end{bmatrix}  = \n",
       "    \\begin{bmatrix}\n",
       "    0 \\\\\n",
       "    0 \\\\\n",
       "    \\dots \\\\\n",
       "    0 \\\\\n",
       "\\end{bmatrix}\n",
       "$\n",
       "$\\\\$\n",
       "$while \\; v \\neq \\; 0 \\implies det(A-I\\lambda) = 0 \\implies |A-I\\lambda|=0 \\\\ $\n",
       "${\\displaystyle |A-\\lambda I|=(\\lambda _{1}-\\lambda )(\\lambda _{2}-\\lambda )\\cdots (\\lambda _{n}-\\lambda ),}$\n",
       "${\\displaystyle \\operatorname {tr} (A)=\\sum _{i=1}^{n}a_{ii}=\\sum _{i=1}^{n}\\lambda _{i}=\\lambda _{1}+\\lambda _{2}+\\cdots +\\lambda _{n}.}\\\\$\n",
       "${\\displaystyle \\det(A)=\\prod _{i=1}^{n}\\lambda _{i}=\\lambda _{1}\\lambda _{2}\\cdots \\lambda _{n}.}$\n"
      ],
      "text/plain": [
       "<IPython.core.display.Latex object>"
      ]
     },
     "metadata": {},
     "output_type": "display_data"
    }
   ],
   "source": [
    "%%latex\n",
    "$Definition: \\:$\n",
    "$A \\;is\\; a \\; n\\times n \\; matrix. \\:$\n",
    "$if \\: \\exists \\; \\lambda \\subset C \\; , \\; a\\; n\\times 1 \\; vector \\; v \\; | \\;  Av = \\lambda v \\; and \\;v \\neq 0 \\\\$\n",
    "$\\implies \\lambda \\; is\\; a\\;Eigen\\; Value\\; , v \\; is \\; Eigen\\; Vector \\\\ $\n",
    "$Solving:\\\\$\n",
    "$\\implies Av = \\lambda v \\implies Av - \\lambda v = 0 \\implies (A-I\\lambda)v = 0 \\\\$\n",
    "$\n",
    "\\begin{bmatrix}\n",
    "    a_{11}-\\lambda & a_{12} & \\dots & a_{1n} \\\\\n",
    "    a_{21} & a_{22}-\\lambda & \\dots & a_{2n} \\\\\n",
    "    \\dots & \\dots & \\dots & \\dots \\\\\n",
    "    a_{n1} & a_{n2} & \\dots & a_{nn}-\\lambda \\\\\n",
    "\\end{bmatrix}\n",
    "\\begin{bmatrix}\n",
    "    x_{1} \\\\\n",
    "    x_{2} \\\\\n",
    "    \\dots \\\\\n",
    "    x_{n} \\\\\n",
    "\\end{bmatrix}  = \n",
    "    \\begin{bmatrix}\n",
    "    0 \\\\\n",
    "    0 \\\\\n",
    "    \\dots \\\\\n",
    "    0 \\\\\n",
    "\\end{bmatrix}\n",
    "$\n",
    "$\\\\$\n",
    "$while \\; v \\neq \\; 0 \\implies det(A-I\\lambda) = 0 \\implies |A-I\\lambda|=0 \\\\ $\n",
    "${\\displaystyle |A-\\lambda I|=(\\lambda _{1}-\\lambda )(\\lambda _{2}-\\lambda )\\cdots (\\lambda _{n}-\\lambda ),}$\n",
    "${\\displaystyle \\operatorname {tr} (A)=\\sum _{i=1}^{n}a_{ii}=\\sum _{i=1}^{n}\\lambda _{i}=\\lambda _{1}+\\lambda _{2}+\\cdots +\\lambda _{n}.}\\\\$\n",
    "${\\displaystyle \\det(A)=\\prod _{i=1}^{n}\\lambda _{i}=\\lambda _{1}\\lambda _{2}\\cdots \\lambda _{n}.}$\n"
   ]
  },
  {
   "cell_type": "code",
   "execution_count": 116,
   "id": "b89b34da-6dec-4336-8add-c1c63c03aee4",
   "metadata": {},
   "outputs": [
    {
     "data": {
      "text/plain": [
       "(array([ 3.62093727e+01, -2.20937271e+00, -2.62410379e-15, -9.51420961e-17]),\n",
       " array([[-0.15115432, -0.72704996, -0.47688035, -0.07702174],\n",
       "        [-0.34923733, -0.28320876,  0.83665151, -0.30149603],\n",
       "        [-0.54732033,  0.16063243, -0.24266197,  0.83405728],\n",
       "        [-0.74540333,  0.60447363, -0.11710919, -0.45553951]]))"
      ]
     },
     "execution_count": 116,
     "metadata": {},
     "output_type": "execute_result"
    }
   ],
   "source": [
    "A = np.arange(1,17).reshape(4,4)\n",
    "np.linalg.eig(A)"
   ]
  },
  {
   "cell_type": "code",
   "execution_count": 128,
   "id": "aba17bac-6c77-4b13-9827-59964f80743c",
   "metadata": {},
   "outputs": [
    {
     "data": {
      "text/latex": [
       "Matrices with entries only along the main diagonal are called diagonal matrices \\\\\n",
       "$\\\\$$Eigendecompositions:$\n",
       "Let A be a square n × n matrix with n linearly independent eigenvectors qi (where i = 1, ..., n). Then A can be factorized as\n",
       "\n",
       "\\mathbf{A}=\\mathbf{Q}\\mathbf{\\Lambda}\\mathbf{Q}^{-1}  \n",
       "where Q is the square n × n matrix whose ith column is the eigenvector qi of A, and Λ is the diagonal matrix whose diagonal elements are the corresponding eigenvalues, Λii = λi. Note that only diagonalizable matrices can be factorized in this way. For example, the defective matrix \n",
       "\n",
       "{\\displaystyle \\left[{\\begin{smallmatrix}1&1\\\\0&1\\end{smallmatrix}}\\right]} (which is a shear matrix) cannot be diagonalized.\n"
      ],
      "text/plain": [
       "<IPython.core.display.Latex object>"
      ]
     },
     "metadata": {},
     "output_type": "display_data"
    }
   ],
   "source": [
    "%%latex \n",
    "Matrices with entries only along the main diagonal are called diagonal matrices \\\\\n",
    "$\\\\$$Eigendecompositions:$\n",
    "Let A be a square n × n matrix with n linearly independent eigenvectors qi (where i = 1, ..., n). Then A can be factorized as\n",
    "\n",
    "\\mathbf{A}=\\mathbf{Q}\\mathbf{\\Lambda}\\mathbf{Q}^{-1}  \n",
    "where Q is the square n × n matrix whose ith column is the eigenvector qi of A, and Λ is the diagonal matrix whose diagonal elements are the corresponding eigenvalues, Λii = λi. Note that only diagonalizable matrices can be factorized in this way. For example, the defective matrix \n",
    "\n",
    "{\\displaystyle \\left[{\\begin{smallmatrix}1&1\\\\0&1\\end{smallmatrix}}\\right]} (which is a shear matrix) cannot be diagonalized."
   ]
  },
  {
   "cell_type": "code",
   "execution_count": 186,
   "id": "39c10f18-7c53-4ccc-8af5-4a044818300c",
   "metadata": {},
   "outputs": [
    {
     "data": {
      "text/latex": [
       "\n",
       "Assume A has nondegenerate eigenvalues $\\lambda_1,\\lambda_2,...,\\lambda_k$ and \n",
       "corresponding linearly independent eigenvectors $X_1,X_2,...,X_k $ which can be denoted $\\\\$\n",
       "$\n",
       "\\begin{bmatrix}\n",
       "    x_{11} \\\\\n",
       "    x_{12} \\\\\n",
       "    \\dots \\\\\n",
       "    x_{1k} \\\\\n",
       "\\end{bmatrix}, \\begin{bmatrix}\n",
       "    x_{21} \\\\\n",
       "    x_{22} \\\\\n",
       "    \\dots \\\\\n",
       "    x_{2k} \\\\\n",
       "\\end{bmatrix}, \\dots ,\n",
       "    \\begin{bmatrix}\n",
       "    x_{k1} \\\\\n",
       "    x_{k2} \\\\\n",
       "    \\dots \\\\\n",
       "    x_{kk} \\\\\n",
       "\\end{bmatrix} \\quad (1)\n",
       "\\\\$\n",
       "Define the matrices composed of eigenvectors\n",
       "\n",
       "$P\t=\t[X_1 \\; X_2 \\; \\dots  \\; X_k] \\quad (2)\\\\ $\n",
       "\n",
       "and eigenvalues\n",
       "\n",
       "\n",
       "$D=\n",
       "\\begin{bmatrix}\n",
       "    \\lambda_1 & 0 & \\dots & 0 \\\\\n",
       "    0 & \\lambda_2 & \\dots & 0 \\\\\n",
       "    \\dots & \\dots & \\dots & \\dots \\\\\n",
       "    0 & 0 & \\dots & \\lambda_k \\\\\n",
       "\\end{bmatrix}\n",
       "\\\\$\n",
       "\n",
       "where D is a diagonal matrix. Then\n",
       "\n",
       "$AP\t=\tA[X_1 \\; X_2 \\; \\dots \\; X_k] \\quad (5) \\\\\n",
       "\t=\t[AX_1 \\;AX_2 \\dots \\;AX_k]\t\\quad(6)     \\\\ \n",
       "\t=\t[\\lambda_1X_1 \\; \\lambda_2X_2 \\; \\dots \\; \\lambda_kX_k]\t\\quad(7)\\\\$\n",
       "    \n",
       "$   =\n",
       "\\begin{bmatrix}\n",
       "    \\lambda_1x_{11} & \\lambda_2x_{21} & \\dots & \\lambda_kx_{k1} \\\\\n",
       "    \\lambda_1x_{12} & \\lambda_2x_{22} & \\dots & \\lambda_kx_{k2} \\\\\n",
       "    \\dots & \\dots & \\dots & \\dots \\\\\n",
       "    \\lambda_1x_{1k} & \\lambda_2x_{2k} & \\dots & \\lambda_kx_{kk} \\\\\n",
       "\\end{bmatrix}\n",
       "\\\\$\n",
       "\n",
       "$   =\n",
       "\\begin{bmatrix}\n",
       "    x_{11} & x_{21} & \\dots & x_{k1} \\\\\n",
       "    x_{12} & x_{22} & \\dots & x_{k2} \\\\\n",
       "    \\dots & \\dots & \\dots & \\dots \\\\\n",
       "    x_{1k} & x_{2k} & \\dots & x_{kk} \\\\\n",
       "\\end{bmatrix}\n",
       "\\begin{bmatrix}\n",
       "    \\lambda_1 & 0 & \\dots & 0 \\\\\n",
       "    0 & \\lambda_2 & \\dots & 0 \\\\\n",
       "    \\dots & \\dots & \\dots & \\dots \\\\\n",
       "    0 & 0 & \\dots & \\lambda_k \\\\\n",
       "\\end{bmatrix}\n",
       "\\\\$\n",
       "$\t=\tPD,\t\\quad (10)\\\\$\n",
       "giving the amazing decomposition of A into a similarity transformation involving P and D,\n",
       "\n",
       "$ A=PDP^{-1}. \t\\quad (11) \\\\ $\n",
       "The fact that this decomposition is always possible for a square matrix A as long as P is a square matrix is known in this work as the eigen decomposition theorem.\n",
       "\n",
       "Furthermore, squaring both sides of equation (11) gives\n",
       "$\n",
       "A^2\t=\t(PDP^{-1})(PDP^{-1})\t\n",
       "\t=\tPD(P^{-1}P)DP^{-1}\t\n",
       "\t=\tPD^2P^{-1}.\t\n",
       "\\\\$\n",
       "\n",
       "By induction, it follows that for general positive integer powers,\n",
       "$\n",
       " A^n=PD^nP^{-1}. \t\n",
       "\\\\$\n",
       "The inverse of A is\n",
       "$\n",
       "A^{-1}\t=\t(PDP^{-1})^{-1}\n",
       "\t=\tPD^{-1}P^{-1},\t\n",
       "\\\\$\n",
       "where the inverse of the diagonal matrix D is trivially given by\n",
       "\n",
       "$D^{-1}=\n",
       "\\begin{bmatrix}\n",
       "    \\lambda_1^{-1} & 0 & \\dots & 0 \\\\\n",
       "    0 & \\lambda_2^{-1} & \\dots & 0 \\\\\n",
       "    \\dots & \\dots & \\dots & \\dots \\\\\n",
       "    0 & 0 & \\dots & \\lambda_k^{-1} \\\\\n",
       "\\end{bmatrix}\n",
       "\\\\$\n",
       "Equation (◇) therefore holds for negative n as well as positive.\n",
       "\n",
       "A further remarkable result involving the matrices P and D follows from the definition of the matrix exponential\n",
       "$\n",
       "e^{A}\t=\\sum_(n=0)^{\\infty}\t\\\\\n",
       "\t=\t\\sum_(n=0)^{\\infty}(PD^nP^(-1))/(n!)\t\\\\\n",
       "\t=\tP(\\sum_(n=0)^{\\infty}{D^n}/(n!))P^{-1}\t\\\\\n",
       "\t=\tPe^(D)P^{-1}.\t\\quad (22) \n",
       "$\n",
       "This is true since D is a diagonal matrix and\n",
       "\n",
       "e^{D}\t=\t\\sum_(n=0)^{infty}(D^n)/(n!)\t\n",
       "\t=\t\\sum_(n=0)^{infty}1/(n!)[\\lambda_1^n 0 ... 0; 0 \\lambda_2^{n} ... 0; | | ... |; 0 0 ... lambda_k^{n}]\t\n",
       "\n",
       "\t=\t[sum_(n=0)^(infty)(lambda_1^n)/(n!) 0 ... 0; 0 sum_(n=0)^(infty)(lambda_2^n)/(n!) ... 0; | | ... |; 0 0 ... sum_(n=0)^(infty)(lambda_k^n)/(n!)]\t\n",
       "\n",
       "\t=\t[e^(lambda_1) 0 ... 0; 0 e^(lambda_2) ... 0; | | ... |; 0 0 ... e^(lambda_k)],\t\n",
       "\n",
       "so e^(A) can be found using D.\n",
       "\n",
       "$\n"
      ],
      "text/plain": [
       "<IPython.core.display.Latex object>"
      ]
     },
     "metadata": {},
     "output_type": "display_data"
    }
   ],
   "source": [
    "%%latex\n",
    "\n",
    "Assume A has nondegenerate eigenvalues $\\lambda_1,\\lambda_2,...,\\lambda_k$ and \n",
    "corresponding linearly independent eigenvectors $X_1,X_2,...,X_k $ which can be denoted $\\\\$\n",
    "$\n",
    "\\begin{bmatrix}\n",
    "    x_{11} \\\\\n",
    "    x_{12} \\\\\n",
    "    \\dots \\\\\n",
    "    x_{1k} \\\\\n",
    "\\end{bmatrix}, \\begin{bmatrix}\n",
    "    x_{21} \\\\\n",
    "    x_{22} \\\\\n",
    "    \\dots \\\\\n",
    "    x_{2k} \\\\\n",
    "\\end{bmatrix}, \\dots ,\n",
    "    \\begin{bmatrix}\n",
    "    x_{k1} \\\\\n",
    "    x_{k2} \\\\\n",
    "    \\dots \\\\\n",
    "    x_{kk} \\\\\n",
    "\\end{bmatrix} \\quad (1)\n",
    "\\\\$\n",
    "Define the matrices composed of eigenvectors\n",
    "\n",
    "$P\t=\t[X_1 \\; X_2 \\; \\dots  \\; X_k] \\quad (2)\\\\ $\n",
    "\n",
    "and eigenvalues\n",
    "\n",
    "\n",
    "$D=\n",
    "\\begin{bmatrix}\n",
    "    \\lambda_1 & 0 & \\dots & 0 \\\\\n",
    "    0 & \\lambda_2 & \\dots & 0 \\\\\n",
    "    \\dots & \\dots & \\dots & \\dots \\\\\n",
    "    0 & 0 & \\dots & \\lambda_k \\\\\n",
    "\\end{bmatrix}\n",
    "\\\\$\n",
    "\n",
    "where D is a diagonal matrix. Then\n",
    "\n",
    "$AP\t=\tA[X_1 \\; X_2 \\; \\dots \\; X_k] \\quad (5) \\\\\n",
    "\t=\t[AX_1 \\;AX_2 \\dots \\;AX_k]\t\\quad(6)     \\\\ \n",
    "\t=\t[\\lambda_1X_1 \\; \\lambda_2X_2 \\; \\dots \\; \\lambda_kX_k]\t\\quad(7)\\\\$\n",
    "    \n",
    "$   =\n",
    "\\begin{bmatrix}\n",
    "    \\lambda_1x_{11} & \\lambda_2x_{21} & \\dots & \\lambda_kx_{k1} \\\\\n",
    "    \\lambda_1x_{12} & \\lambda_2x_{22} & \\dots & \\lambda_kx_{k2} \\\\\n",
    "    \\dots & \\dots & \\dots & \\dots \\\\\n",
    "    \\lambda_1x_{1k} & \\lambda_2x_{2k} & \\dots & \\lambda_kx_{kk} \\\\\n",
    "\\end{bmatrix}\n",
    "\\\\$\n",
    "\n",
    "$   =\n",
    "\\begin{bmatrix}\n",
    "    x_{11} & x_{21} & \\dots & x_{k1} \\\\\n",
    "    x_{12} & x_{22} & \\dots & x_{k2} \\\\\n",
    "    \\dots & \\dots & \\dots & \\dots \\\\\n",
    "    x_{1k} & x_{2k} & \\dots & x_{kk} \\\\\n",
    "\\end{bmatrix}\n",
    "\\begin{bmatrix}\n",
    "    \\lambda_1 & 0 & \\dots & 0 \\\\\n",
    "    0 & \\lambda_2 & \\dots & 0 \\\\\n",
    "    \\dots & \\dots & \\dots & \\dots \\\\\n",
    "    0 & 0 & \\dots & \\lambda_k \\\\\n",
    "\\end{bmatrix}\n",
    "\\\\$\n",
    "$\t=\tPD,\t\\quad (10)\\\\$\n",
    "giving the amazing decomposition of A into a similarity transformation involving P and D,\n",
    "\n",
    "$ A=PDP^{-1}. \t\\quad (11) \\\\ $\n",
    "The fact that this decomposition is always possible for a square matrix A as long as P is a square matrix is known in this work as the eigen decomposition theorem.\n",
    "\n",
    "Furthermore, squaring both sides of equation (11) gives\n",
    "$\n",
    "A^2\t=\t(PDP^{-1})(PDP^{-1})\t\n",
    "\t=\tPD(P^{-1}P)DP^{-1}\t\n",
    "\t=\tPD^2P^{-1}.\t\n",
    "\\\\$\n",
    "\n",
    "By induction, it follows that for general positive integer powers,\n",
    "$\n",
    " A^n=PD^nP^{-1}. \t\n",
    "\\\\$\n",
    "The inverse of A is\n",
    "$\n",
    "A^{-1}\t=\t(PDP^{-1})^{-1}\n",
    "\t=\tPD^{-1}P^{-1},\t\n",
    "\\\\$\n",
    "where the inverse of the diagonal matrix D is trivially given by\n",
    "\n",
    "$D^{-1}=\n",
    "\\begin{bmatrix}\n",
    "    \\lambda_1^{-1} & 0 & \\dots & 0 \\\\\n",
    "    0 & \\lambda_2^{-1} & \\dots & 0 \\\\\n",
    "    \\dots & \\dots & \\dots & \\dots \\\\\n",
    "    0 & 0 & \\dots & \\lambda_k^{-1} \\\\\n",
    "\\end{bmatrix}\n",
    "\\\\$\n",
    "Equation (◇) therefore holds for negative n as well as positive.\n",
    "\n",
    "A further remarkable result involving the matrices P and D follows from the definition of the matrix exponential\n",
    "$\n",
    "e^{A}\t=\\sum_{n=0}^{\\infty}(A^{n})/(n!)\t\\\\\n",
    "\t=\t\\sum_{n=0}^{\\infty}(PD^nP^(-1))/(n!)\t\\\\\n",
    "\t=\tP(\\sum_(n=0)^{\\infty}{D^n}/(n!))P^{-1}\t\\\\\n",
    "\t=\tPe^(D)P^{-1}.\t\\quad (22) \n",
    "$\n",
    "This is true since D is a diagonal matrix and\n",
    "\n",
    "e^{D}\t=\t\\sum_(n=0)^{infty}(D^n)/(n!)\t\n",
    "\t=\t\\sum_(n=0)^{infty}1/(n!)[\\lambda_1^n 0 ... 0; 0 \\lambda_2^{n} ... 0; | | ... |; 0 0 ... lambda_k^{n}]\t\n",
    "\n",
    "\t=\t[sum_(n=0)^(infty)(lambda_1^n)/(n!) 0 ... 0; 0 sum_(n=0)^(infty)(lambda_2^n)/(n!) ... 0; | | ... |; 0 0 ... sum_(n=0)^(infty)(lambda_k^n)/(n!)]\t\n",
    "\n",
    "\t=\t[e^(lambda_1) 0 ... 0; 0 e^(lambda_2) ... 0; | | ... |; 0 0 ... e^(lambda_k)],\t\n",
    "\n",
    "so e^(A) can be found using D.\n",
    "\n",
    "$"
   ]
  }
 ],
 "metadata": {
  "kernelspec": {
   "display_name": "Python 3",
   "language": "python",
   "name": "python3"
  },
  "language_info": {
   "codemirror_mode": {
    "name": "ipython",
    "version": 3
   },
   "file_extension": ".py",
   "mimetype": "text/x-python",
   "name": "python",
   "nbconvert_exporter": "python",
   "pygments_lexer": "ipython3",
   "version": "3.9.15"
  }
 },
 "nbformat": 4,
 "nbformat_minor": 5
}
